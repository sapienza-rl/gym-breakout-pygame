{
 "cells": [
  {
   "cell_type": "markdown",
   "metadata": {
    "collapsed": true
   },
   "source": [
    "## Learn to play at Breakout \n",
    "\n",
    "### Requirements\n",
    "\n",
    "- [install `keras-rl`](https://github.com/keras-rl/keras-rl#installation)\n",
    "\n",
    "      pip install keras-rl\n",
    "      \n",
    "- install the `gym_breakout_pygame` package\n",
    "\n",
    "      pip install gym_breakout_pygame\n",
    "      "
   ]
  },
  {
   "cell_type": "code",
   "execution_count": 1,
   "metadata": {},
   "outputs": [
    {
     "name": "stdout",
     "output_type": "stream",
     "text": [
      "pygame 1.9.6\n",
      "Hello from the pygame community. https://www.pygame.org/contribute.html\n"
     ]
    },
    {
     "name": "stderr",
     "output_type": "stream",
     "text": [
      "Using TensorFlow backend.\n"
     ]
    }
   ],
   "source": [
    "import numpy as np\n",
    "import gym\n",
    "from gym_breakout_pygame.wrappers.observation_space import BreakoutN\n",
    "\n",
    "from keras.models import Sequential\n",
    "from keras.layers import Dense, Activation, Flatten\n",
    "from keras.optimizers import Adam\n",
    "\n",
    "from rl.agents.dqn import DQNAgent\n",
    "from rl.policy import BoltzmannQPolicy\n",
    "from rl.memory import SequentialMemory\n"
   ]
  },
  {
   "cell_type": "code",
   "execution_count": 2,
   "metadata": {},
   "outputs": [
    {
     "name": "stderr",
     "output_type": "stream",
     "text": [
      "WARNING: Logging before flag parsing goes to stderr.\n",
      "W0629 23:48:49.540298 140024841986176 deprecation_wrapper.py:119] From /home/marcofavorito/.virtualenvs/gym-breakout-pygame-7UQzWS9l/lib/python3.7/site-packages/keras/backend/tensorflow_backend.py:74: The name tf.get_default_graph is deprecated. Please use tf.compat.v1.get_default_graph instead.\n",
      "\n",
      "W0629 23:48:49.551870 140024841986176 deprecation_wrapper.py:119] From /home/marcofavorito/.virtualenvs/gym-breakout-pygame-7UQzWS9l/lib/python3.7/site-packages/keras/backend/tensorflow_backend.py:517: The name tf.placeholder is deprecated. Please use tf.compat.v1.placeholder instead.\n",
      "\n",
      "W0629 23:48:49.561582 140024841986176 deprecation_wrapper.py:119] From /home/marcofavorito/.virtualenvs/gym-breakout-pygame-7UQzWS9l/lib/python3.7/site-packages/keras/backend/tensorflow_backend.py:4138: The name tf.random_uniform is deprecated. Please use tf.random.uniform instead.\n",
      "\n"
     ]
    },
    {
     "name": "stdout",
     "output_type": "stream",
     "text": [
      "_________________________________________________________________\n",
      "Layer (type)                 Output Shape              Param #   \n",
      "=================================================================\n",
      "flatten_1 (Flatten)          (None, 4)                 0         \n",
      "_________________________________________________________________\n",
      "dense_1 (Dense)              (None, 64)                320       \n",
      "_________________________________________________________________\n",
      "activation_1 (Activation)    (None, 64)                0         \n",
      "_________________________________________________________________\n",
      "dense_2 (Dense)              (None, 64)                4160      \n",
      "_________________________________________________________________\n",
      "activation_2 (Activation)    (None, 64)                0         \n",
      "_________________________________________________________________\n",
      "dense_3 (Dense)              (None, 3)                 195       \n",
      "_________________________________________________________________\n",
      "activation_3 (Activation)    (None, 3)                 0         \n",
      "=================================================================\n",
      "Total params: 4,675\n",
      "Trainable params: 4,675\n",
      "Non-trainable params: 0\n",
      "_________________________________________________________________\n",
      "None\n"
     ]
    }
   ],
   "source": [
    "env = BreakoutN(encode=False)\n",
    "np.random.seed(123)\n",
    "env.seed(123)\n",
    "nb_actions = env.action_space.n\n",
    "\n",
    "# Next, we build a very simple model.\n",
    "model = Sequential()\n",
    "model.add(Flatten(input_shape=(1,) + env.observation_space.shape))\n",
    "model.add(Dense(64))\n",
    "model.add(Activation('relu'))\n",
    "model.add(Dense(64))\n",
    "model.add(Activation('relu'))\n",
    "model.add(Dense(nb_actions))\n",
    "model.add(Activation('linear'))\n",
    "print(model.summary())\n"
   ]
  },
  {
   "cell_type": "code",
   "execution_count": 4,
   "metadata": {},
   "outputs": [
    {
     "name": "stdout",
     "output_type": "stream",
     "text": [
      "Training for 10000 steps ...\n"
     ]
    },
    {
     "name": "stderr",
     "output_type": "stream",
     "text": [
      "/home/marcofavorito/.virtualenvs/gym-breakout-pygame-7UQzWS9l/lib/python3.7/site-packages/rl/memory.py:39: UserWarning: Not enough entries to sample without replacement. Consider increasing your warm-up phase to avoid oversampling!\n",
      "  warnings.warn('Not enough entries to sample without replacement. Consider increasing your warm-up phase to avoid oversampling!')\n"
     ]
    },
    {
     "name": "stdout",
     "output_type": "stream",
     "text": [
      "  151/10000: episode: 1, duration: 1.291s, episode steps: 151, steps per second: 117, episode reward: 5.000, mean reward: 0.033 [0.000, 5.000], mean action: 1.265 [0.000, 2.000], mean observation: 12.472 [0.000, 47.000], loss: 0.139938, mean_absolute_error: 6.834894, mean_q: 10.322103\n",
      "  302/10000: episode: 2, duration: 0.695s, episode steps: 151, steps per second: 217, episode reward: 5.000, mean reward: 0.033 [0.000, 5.000], mean action: 1.212 [0.000, 2.000], mean observation: 13.139 [2.000, 47.000], loss: 0.302389, mean_absolute_error: 6.738727, mean_q: 10.205843\n",
      "  453/10000: episode: 3, duration: 0.721s, episode steps: 151, steps per second: 209, episode reward: 5.000, mean reward: 0.033 [0.000, 5.000], mean action: 1.166 [0.000, 2.000], mean observation: 12.513 [0.000, 47.000], loss: 0.212746, mean_absolute_error: 6.262754, mean_q: 9.478497\n",
      " 1004/10000: episode: 4, duration: 2.522s, episode steps: 551, steps per second: 218, episode reward: 20.000, mean reward: 0.036 [0.000, 5.000], mean action: 1.103 [0.000, 2.000], mean observation: 11.964 [0.000, 47.000], loss: 0.162617, mean_absolute_error: 6.349705, mean_q: 9.591459\n",
      " 1157/10000: episode: 5, duration: 0.723s, episode steps: 153, steps per second: 212, episode reward: 5.000, mean reward: 0.033 [0.000, 5.000], mean action: 0.961 [0.000, 2.000], mean observation: 11.312 [0.000, 47.000], loss: 0.118096, mean_absolute_error: 6.336495, mean_q: 9.563386\n",
      " 1450/10000: episode: 6, duration: 1.350s, episode steps: 293, steps per second: 217, episode reward: 10.000, mean reward: 0.034 [0.000, 5.000], mean action: 1.061 [0.000, 2.000], mean observation: 12.223 [0.000, 47.000], loss: 0.164441, mean_absolute_error: 6.255363, mean_q: 9.436339\n",
      " 1731/10000: episode: 7, duration: 1.526s, episode steps: 281, steps per second: 184, episode reward: 10.000, mean reward: 0.036 [0.000, 5.000], mean action: 1.085 [0.000, 2.000], mean observation: 11.957 [0.000, 47.000], loss: 0.130119, mean_absolute_error: 6.211799, mean_q: 9.367690\n",
      " 2012/10000: episode: 8, duration: 1.468s, episode steps: 281, steps per second: 191, episode reward: 10.000, mean reward: 0.036 [0.000, 5.000], mean action: 1.032 [0.000, 2.000], mean observation: 11.854 [0.000, 47.000], loss: 0.101282, mean_absolute_error: 6.265144, mean_q: 9.460344\n",
      " 2163/10000: episode: 9, duration: 0.840s, episode steps: 151, steps per second: 180, episode reward: 5.000, mean reward: 0.033 [0.000, 5.000], mean action: 1.013 [0.000, 2.000], mean observation: 13.290 [2.000, 47.000], loss: 0.116807, mean_absolute_error: 6.227260, mean_q: 9.394555\n",
      " 2444/10000: episode: 10, duration: 1.287s, episode steps: 281, steps per second: 218, episode reward: 10.000, mean reward: 0.036 [0.000, 5.000], mean action: 1.153 [0.000, 2.000], mean observation: 12.165 [0.000, 47.000], loss: 0.112518, mean_absolute_error: 6.239196, mean_q: 9.404257\n",
      " 2595/10000: episode: 11, duration: 0.688s, episode steps: 151, steps per second: 219, episode reward: 5.000, mean reward: 0.033 [0.000, 5.000], mean action: 0.987 [0.000, 2.000], mean observation: 12.182 [0.000, 47.000], loss: 0.098400, mean_absolute_error: 6.239956, mean_q: 9.403274\n",
      " 2750/10000: episode: 12, duration: 0.738s, episode steps: 155, steps per second: 210, episode reward: 5.000, mean reward: 0.032 [0.000, 5.000], mean action: 1.013 [0.000, 2.000], mean observation: 11.458 [0.000, 47.000], loss: 0.119360, mean_absolute_error: 6.203455, mean_q: 9.348826\n",
      " 2901/10000: episode: 13, duration: 0.684s, episode steps: 151, steps per second: 221, episode reward: 5.000, mean reward: 0.033 [0.000, 5.000], mean action: 1.053 [0.000, 2.000], mean observation: 13.316 [2.000, 47.000], loss: 0.132499, mean_absolute_error: 6.177451, mean_q: 9.296888\n",
      " 3052/10000: episode: 14, duration: 0.677s, episode steps: 151, steps per second: 223, episode reward: 5.000, mean reward: 0.033 [0.000, 5.000], mean action: 1.073 [0.000, 2.000], mean observation: 12.808 [2.000, 47.000], loss: 0.131417, mean_absolute_error: 6.167523, mean_q: 9.279727\n",
      " 3333/10000: episode: 15, duration: 1.241s, episode steps: 281, steps per second: 226, episode reward: 10.000, mean reward: 0.036 [0.000, 5.000], mean action: 1.004 [0.000, 2.000], mean observation: 12.032 [0.000, 47.000], loss: 0.101450, mean_absolute_error: 6.130254, mean_q: 9.222728\n",
      " 3484/10000: episode: 16, duration: 0.668s, episode steps: 151, steps per second: 226, episode reward: 5.000, mean reward: 0.033 [0.000, 5.000], mean action: 1.046 [0.000, 2.000], mean observation: 11.407 [0.000, 47.000], loss: 0.093532, mean_absolute_error: 6.100651, mean_q: 9.184969\n",
      " 3635/10000: episode: 17, duration: 0.694s, episode steps: 151, steps per second: 217, episode reward: 5.000, mean reward: 0.033 [0.000, 5.000], mean action: 1.026 [0.000, 2.000], mean observation: 12.525 [2.000, 47.000], loss: 0.090318, mean_absolute_error: 6.032917, mean_q: 9.085444\n",
      " 4056/10000: episode: 18, duration: 2.196s, episode steps: 421, steps per second: 192, episode reward: 15.000, mean reward: 0.036 [0.000, 5.000], mean action: 1.021 [0.000, 2.000], mean observation: 11.898 [0.000, 47.000], loss: 0.094593, mean_absolute_error: 6.026717, mean_q: 9.057995\n",
      " 4207/10000: episode: 19, duration: 0.795s, episode steps: 151, steps per second: 190, episode reward: 5.000, mean reward: 0.033 [0.000, 5.000], mean action: 1.000 [0.000, 2.000], mean observation: 12.768 [2.000, 47.000], loss: 0.098942, mean_absolute_error: 5.987989, mean_q: 8.992657\n",
      " 5048/10000: episode: 20, duration: 3.818s, episode steps: 841, steps per second: 220, episode reward: 40.000, mean reward: 0.048 [0.000, 5.000], mean action: 0.992 [0.000, 2.000], mean observation: 11.447 [0.000, 47.000], loss: 0.106548, mean_absolute_error: 5.981682, mean_q: 8.972653\n",
      " 5597/10000: episode: 21, duration: 3.344s, episode steps: 549, steps per second: 164, episode reward: 20.000, mean reward: 0.036 [0.000, 5.000], mean action: 1.031 [0.000, 2.000], mean observation: 10.914 [0.000, 47.000], loss: 0.117000, mean_absolute_error: 5.878624, mean_q: 8.812840\n",
      " 5748/10000: episode: 22, duration: 0.721s, episode steps: 151, steps per second: 209, episode reward: 5.000, mean reward: 0.033 [0.000, 5.000], mean action: 0.993 [0.000, 2.000], mean observation: 13.192 [2.000, 47.000], loss: 0.101925, mean_absolute_error: 5.860528, mean_q: 8.786705\n",
      " 5899/10000: episode: 23, duration: 0.754s, episode steps: 151, steps per second: 200, episode reward: 5.000, mean reward: 0.033 [0.000, 5.000], mean action: 1.040 [0.000, 2.000], mean observation: 12.106 [0.000, 47.000], loss: 0.090772, mean_absolute_error: 5.861043, mean_q: 8.784028\n",
      " 6180/10000: episode: 24, duration: 1.633s, episode steps: 281, steps per second: 172, episode reward: 10.000, mean reward: 0.036 [0.000, 5.000], mean action: 1.021 [0.000, 2.000], mean observation: 12.096 [0.000, 47.000], loss: 0.103209, mean_absolute_error: 5.884806, mean_q: 8.824003\n",
      " 6605/10000: episode: 25, duration: 2.420s, episode steps: 425, steps per second: 176, episode reward: 15.000, mean reward: 0.035 [0.000, 5.000], mean action: 1.068 [0.000, 2.000], mean observation: 11.667 [0.000, 47.000], loss: 0.128892, mean_absolute_error: 5.890673, mean_q: 8.830324\n",
      " 6886/10000: episode: 26, duration: 1.580s, episode steps: 281, steps per second: 178, episode reward: 10.000, mean reward: 0.036 [0.000, 5.000], mean action: 1.000 [0.000, 2.000], mean observation: 11.687 [0.000, 47.000], loss: 0.107655, mean_absolute_error: 5.881782, mean_q: 8.810139\n",
      " 7037/10000: episode: 27, duration: 1.005s, episode steps: 151, steps per second: 150, episode reward: 5.000, mean reward: 0.033 [0.000, 5.000], mean action: 1.060 [0.000, 2.000], mean observation: 13.344 [2.000, 47.000], loss: 0.108550, mean_absolute_error: 5.872868, mean_q: 8.803463\n",
      " 7318/10000: episode: 28, duration: 1.550s, episode steps: 281, steps per second: 181, episode reward: 10.000, mean reward: 0.036 [0.000, 5.000], mean action: 0.975 [0.000, 2.000], mean observation: 11.888 [0.000, 47.000], loss: 0.103449, mean_absolute_error: 5.845335, mean_q: 8.754951\n",
      " 7469/10000: episode: 29, duration: 0.808s, episode steps: 151, steps per second: 187, episode reward: 5.000, mean reward: 0.033 [0.000, 5.000], mean action: 1.020 [0.000, 2.000], mean observation: 11.863 [0.000, 47.000], loss: 0.083441, mean_absolute_error: 5.814384, mean_q: 8.722053\n"
     ]
    },
    {
     "name": "stdout",
     "output_type": "stream",
     "text": [
      " 7620/10000: episode: 30, duration: 0.839s, episode steps: 151, steps per second: 180, episode reward: 5.000, mean reward: 0.033 [0.000, 5.000], mean action: 0.940 [0.000, 2.000], mean observation: 12.500 [0.000, 47.000], loss: 0.099431, mean_absolute_error: 5.778156, mean_q: 8.661280\n",
      " 7771/10000: episode: 31, duration: 1.003s, episode steps: 151, steps per second: 151, episode reward: 5.000, mean reward: 0.033 [0.000, 5.000], mean action: 1.026 [0.000, 2.000], mean observation: 12.709 [2.000, 47.000], loss: 0.099584, mean_absolute_error: 5.764544, mean_q: 8.633820\n",
      " 7924/10000: episode: 32, duration: 0.724s, episode steps: 153, steps per second: 211, episode reward: 5.000, mean reward: 0.033 [0.000, 5.000], mean action: 0.876 [0.000, 2.000], mean observation: 11.891 [0.000, 47.000], loss: 0.096048, mean_absolute_error: 5.745294, mean_q: 8.614525\n",
      " 8213/10000: episode: 33, duration: 1.584s, episode steps: 289, steps per second: 182, episode reward: 10.000, mean reward: 0.035 [0.000, 5.000], mean action: 1.031 [0.000, 2.000], mean observation: 11.664 [0.000, 47.000], loss: 0.095409, mean_absolute_error: 5.717917, mean_q: 8.570756\n",
      " 8364/10000: episode: 34, duration: 0.697s, episode steps: 151, steps per second: 217, episode reward: 5.000, mean reward: 0.033 [0.000, 5.000], mean action: 1.079 [0.000, 2.000], mean observation: 13.061 [2.000, 47.000], loss: 0.108151, mean_absolute_error: 5.703171, mean_q: 8.525340\n",
      " 8653/10000: episode: 35, duration: 1.346s, episode steps: 289, steps per second: 215, episode reward: 10.000, mean reward: 0.035 [0.000, 5.000], mean action: 0.917 [0.000, 2.000], mean observation: 11.922 [0.000, 47.000], loss: 0.087449, mean_absolute_error: 5.636314, mean_q: 8.450624\n",
      " 9204/10000: episode: 36, duration: 2.437s, episode steps: 551, steps per second: 226, episode reward: 20.000, mean reward: 0.036 [0.000, 5.000], mean action: 0.998 [0.000, 2.000], mean observation: 11.618 [0.000, 47.000], loss: 0.096901, mean_absolute_error: 5.612289, mean_q: 8.402783\n",
      " 9497/10000: episode: 37, duration: 1.284s, episode steps: 293, steps per second: 228, episode reward: 10.000, mean reward: 0.034 [0.000, 5.000], mean action: 1.034 [0.000, 2.000], mean observation: 12.416 [0.000, 47.000], loss: 0.093725, mean_absolute_error: 5.538491, mean_q: 8.294374\n",
      " 9648/10000: episode: 38, duration: 0.670s, episode steps: 151, steps per second: 225, episode reward: 5.000, mean reward: 0.033 [0.000, 5.000], mean action: 1.073 [0.000, 2.000], mean observation: 13.331 [2.000, 47.000], loss: 0.075202, mean_absolute_error: 5.502677, mean_q: 8.248979\n",
      " 9937/10000: episode: 39, duration: 1.321s, episode steps: 289, steps per second: 219, episode reward: 10.000, mean reward: 0.035 [0.000, 5.000], mean action: 0.927 [0.000, 2.000], mean observation: 11.962 [0.000, 47.000], loss: 0.089443, mean_absolute_error: 5.464530, mean_q: 8.180284\n",
      "done, took 50.666 seconds\n",
      "Testing for 5 episodes ...\n",
      "Episode 1: reward: 15.000, steps: 419\n",
      "Episode 2: reward: 15.000, steps: 419\n",
      "Episode 3: reward: 15.000, steps: 419\n",
      "Episode 4: reward: 15.000, steps: 419\n",
      "Episode 5: reward: 15.000, steps: 419\n"
     ]
    },
    {
     "data": {
      "text/plain": [
       "<keras.callbacks.History at 0x7f59802d95f8>"
      ]
     },
     "execution_count": 4,
     "metadata": {},
     "output_type": "execute_result"
    }
   ],
   "source": [
    "# Configure and compile the RL agent\n",
    "memory = SequentialMemory(limit=50000, window_length=1)\n",
    "policy = BoltzmannQPolicy()\n",
    "dqn = DQNAgent(model=model, nb_actions=nb_actions, memory=memory, nb_steps_warmup=10,\n",
    "               target_model_update=1e-2, policy=policy)\n",
    "dqn.compile(Adam(lr=1e-3), metrics=['mae'])\n",
    "\n",
    "# learn\n",
    "dqn.fit(env, nb_steps=30000, visualize=False, verbose=2)\n",
    "\n",
    "# save \n",
    "dqn.save_weights('dqn_{}_weights.h5f'.format(\"breakout-n\"), overwrite=True)\n",
    "\n",
    "# Finally, evaluate our algorithm for 5 episodes.\n",
    "dqn.test(env, nb_episodes=5, visualize=True)"
   ]
  }
 ],
 "metadata": {
  "kernelspec": {
   "display_name": "Python 3",
   "language": "python",
   "name": "python3"
  },
  "language_info": {
   "codemirror_mode": {
    "name": "ipython",
    "version": 3
   },
   "file_extension": ".py",
   "mimetype": "text/x-python",
   "name": "python",
   "nbconvert_exporter": "python",
   "pygments_lexer": "ipython3",
   "version": "3.7.2"
  }
 },
 "nbformat": 4,
 "nbformat_minor": 1
}
