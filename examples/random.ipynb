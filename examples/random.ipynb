{
 "cells": [
  {
   "cell_type": "markdown",
   "metadata": {
    "collapsed": true,
    "pycharm": {
     "name": "#%% md\n"
    }
   },
   "source": [
    "\n",
    "## Playing Breakout using a random policy\n"
   ]
  },
  {
   "cell_type": "code",
   "execution_count": 5,
   "outputs": [],
   "source": [
    "import time\n",
    "from gym_breakout_pygame.breakout_env import BreakoutConfiguration\n",
    "from gym_breakout_pygame.wrappers.dict_space import BreakoutDictSpace\n",
    "\n",
    "config = BreakoutConfiguration(fire_enabled=True)\n",
    "env = BreakoutDictSpace(config)\n",
    "\n",
    "state = env.reset()\n",
    "env.render(mode=\"human\")\n",
    "done = False\n",
    "while not done:\n",
    "    obs, reward, done, info = env.step(env.action_space.sample())\n",
    "    env.render(mode=\"human\")\n",
    "    time.sleep(0.01)\n",
    "\n",
    "env.close()\n"
   ],
   "metadata": {
    "collapsed": false,
    "pycharm": {
     "name": "#%% \n",
     "is_executing": false
    }
   }
  },
  {
   "cell_type": "markdown",
   "source": [
    "\n",
    "How the state looks like:\n"
   ],
   "metadata": {
    "collapsed": false,
    "pycharm": {
     "name": "#%% md\n"
    }
   }
  },
  {
   "cell_type": "code",
   "execution_count": 12,
   "outputs": [
    {
     "name": "stdout",
     "text": [
      "{'ball_dir': 9,\n 'ball_x': 6,\n 'ball_y': 37,\n 'bricks_matrix': array([1., 1., 1., 1., 1., 1., 1., 1., 1.]),\n 'paddle_x': 6}\n"
     ],
     "output_type": "stream"
    }
   ],
   "source": [
    "\n",
    "import pprint\n",
    "pprint.pprint(state)\n"
   ],
   "metadata": {
    "collapsed": false,
    "pycharm": {
     "name": "#%%\n",
     "is_executing": false
    }
   }
  }
 ],
 "metadata": {
  "language_info": {
   "codemirror_mode": {
    "name": "ipython",
    "version": 2
   },
   "file_extension": ".py",
   "mimetype": "text/x-python",
   "name": "python",
   "nbconvert_exporter": "python",
   "pygments_lexer": "ipython2",
   "version": "2.7.6"
  },
  "kernelspec": {
   "name": "python3",
   "language": "python",
   "display_name": "Python 3"
  },
  "pycharm": {
   "stem_cell": {
    "cell_type": "raw",
    "source": [],
    "metadata": {
     "collapsed": false
    }
   }
  }
 },
 "nbformat": 4,
 "nbformat_minor": 0
}